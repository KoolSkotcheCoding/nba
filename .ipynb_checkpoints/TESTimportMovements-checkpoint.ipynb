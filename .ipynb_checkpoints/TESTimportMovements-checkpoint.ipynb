{
 "cells": [
  {
   "cell_type": "code",
   "execution_count": 17,
   "metadata": {
    "collapsed": false
   },
   "outputs": [],
   "source": [
    "import requests\n",
    "import pandas as pd\n",
    "import numpy as np\n",
    "import json\n",
    "from pprint import pprint\n",
    "\n",
    "%matplotlib inline\n",
    "import matplotlib.pyplot as plt\n",
    "import seaborn as sns\n",
    "\n",
    "from IPython.display import IFrame"
   ]
  },
  {
   "cell_type": "code",
   "execution_count": 18,
   "metadata": {
    "collapsed": true
   },
   "outputs": [],
   "source": [
    "sns.set_color_codes()\n",
    "sns.set_style(\"white\")"
   ]
  },
  {
   "cell_type": "code",
   "execution_count": 19,
   "metadata": {
    "collapsed": false
   },
   "outputs": [],
   "source": [
    "with open('/nbaData/0021500491.json') as data_file:\n",
    "    data=json.load(data_file)\n",
    "    \n"
   ]
  },
  {
   "cell_type": "code",
   "execution_count": 20,
   "metadata": {
    "collapsed": false
   },
   "outputs": [],
   "source": [
    "home=data[\"events\"][0][\"home\"]\n",
    "away=data[\"events\"][0][\"visitor\"]\n",
    "moments=data[\"events\"][0][\"moments\"]"
   ]
  },
  {
   "cell_type": "code",
   "execution_count": 21,
   "metadata": {
    "collapsed": false
   },
   "outputs": [
    {
     "name": "stdout",
     "output_type": "stream",
     "text": [
      "2016-01-01\n",
      "0021500491\n"
     ]
    }
   ],
   "source": [
    "#gamedate and gameID\n",
    "#game IDs for 2014-2015 follow format: 002140XXXX.\n",
    "#game IDs for 2015-2016 follow format: 002150XXXX.\n",
    "\n",
    "print data[\"gamedate\"]\n",
    "print data[\"gameid\"]\n",
    "\n"
   ]
  },
  {
   "cell_type": "code",
   "execution_count": 22,
   "metadata": {
    "collapsed": false
   },
   "outputs": [
    {
     "name": "stdout",
     "output_type": "stream",
     "text": [
      "[1, 1451695284002, 706.62, 8.92, None, [[-1, -1, 75.32556, 5.98097, 5.49124], [1610612748, 2547, 63.7092, 34.45719, 0.0], [1610612748, 2736, 81.69544, 11.30207, 0.0], [1610612748, 201609, 70.29572, 7.46278, 0.0], [1610612748, 202355, 83.90212, 34.19776, 0.0], [1610612748, 204020, 87.10757, 47.84178, 0.0], [1610612742, 1717, 73.23341, 27.90537, 0.0], [1610612742, 200826, 84.12922, 31.64608, 0.0], [1610612742, 2585, 84.09753, 28.95075, 0.0], [1610612742, 202083, 82.54378, 13.31071, 0.0], [1610612742, 202718, 74.64288, 11.58677, 0.0]]]\n"
     ]
    }
   ],
   "source": [
    "# Column labels\n",
    "headers = [\"team_id\", \"player_id\", \"x_loc\", \"y_loc\", \n",
    "           \"z_loc\",\"game_clock\", \"shot_clock\"]\n",
    "print moments[0]"
   ]
  },
  {
   "cell_type": "code",
   "execution_count": 23,
   "metadata": {
    "collapsed": false
   },
   "outputs": [],
   "source": [
    "\n",
    "# Initialize our new list\n",
    "player_moments = []\n",
    "for moment in moments:\n",
    "    for player in moment[5]:\n",
    "        tempPlayer = player[0:5]\n",
    "        tempPlayer.append(moment[2])\n",
    "        tempPlayer.append(moment[3])\n",
    "        player_moments.append(tempPlayer)"
   ]
  },
  {
   "cell_type": "code",
   "execution_count": 24,
   "metadata": {
    "collapsed": false
   },
   "outputs": [],
   "source": [
    "#print player_moments\n",
    "df = pd.DataFrame(player_moments, columns=headers)\n",
    "\n",
    "#df.head(8)"
   ]
  },
  {
   "cell_type": "code",
   "execution_count": 25,
   "metadata": {
    "collapsed": false
   },
   "outputs": [],
   "source": [
    "players=home[\"players\"]\n",
    "\n",
    "players.extend(away[\"players\"])"
   ]
  },
  {
   "cell_type": "code",
   "execution_count": 26,
   "metadata": {
    "collapsed": false
   },
   "outputs": [],
   "source": [
    "id_dict={}"
   ]
  },
  {
   "cell_type": "code",
   "execution_count": 27,
   "metadata": {
    "collapsed": false
   },
   "outputs": [],
   "source": [
    "for i in range(0,len(players)):\n",
    "    id_dict[players[i][\"playerid\"]]=[players[i][\"firstname\"]+\" \"+players[i][\"lastname\"],players[i][\"jersey\"]]"
   ]
  },
  {
   "cell_type": "code",
   "execution_count": 28,
   "metadata": {
    "collapsed": false
   },
   "outputs": [],
   "source": [
    "id_dict.update({-1: ['ball',np.nan]})"
   ]
  },
  {
   "cell_type": "code",
   "execution_count": 29,
   "metadata": {
    "collapsed": false
   },
   "outputs": [],
   "source": [
    "df[\"player_name\"] = df.player_id.map(lambda x: id_dict[x][0])\n",
    "df[\"player_jersey\"] = df.player_id.map(lambda x: id_dict[x][1])"
   ]
  },
  {
   "cell_type": "code",
   "execution_count": 30,
   "metadata": {
    "collapsed": false
   },
   "outputs": [
    {
     "data": {
      "text/html": [
       "<div>\n",
       "<table border=\"1\" class=\"dataframe\">\n",
       "  <thead>\n",
       "    <tr style=\"text-align: right;\">\n",
       "      <th></th>\n",
       "      <th>team_id</th>\n",
       "      <th>player_id</th>\n",
       "      <th>x_loc</th>\n",
       "      <th>y_loc</th>\n",
       "      <th>z_loc</th>\n",
       "      <th>game_clock</th>\n",
       "      <th>shot_clock</th>\n",
       "      <th>player_name</th>\n",
       "      <th>player_jersey</th>\n",
       "    </tr>\n",
       "  </thead>\n",
       "  <tbody>\n",
       "    <tr>\n",
       "      <th>0</th>\n",
       "      <td>-1</td>\n",
       "      <td>-1</td>\n",
       "      <td>75.32556</td>\n",
       "      <td>5.98097</td>\n",
       "      <td>5.49124</td>\n",
       "      <td>706.62</td>\n",
       "      <td>8.92</td>\n",
       "      <td>ball</td>\n",
       "      <td>NaN</td>\n",
       "    </tr>\n",
       "    <tr>\n",
       "      <th>1</th>\n",
       "      <td>1610612748</td>\n",
       "      <td>2547</td>\n",
       "      <td>63.70920</td>\n",
       "      <td>34.45719</td>\n",
       "      <td>0.00000</td>\n",
       "      <td>706.62</td>\n",
       "      <td>8.92</td>\n",
       "      <td>Chris Bosh</td>\n",
       "      <td>1</td>\n",
       "    </tr>\n",
       "    <tr>\n",
       "      <th>2</th>\n",
       "      <td>1610612748</td>\n",
       "      <td>2736</td>\n",
       "      <td>81.69544</td>\n",
       "      <td>11.30207</td>\n",
       "      <td>0.00000</td>\n",
       "      <td>706.62</td>\n",
       "      <td>8.92</td>\n",
       "      <td>Luol Deng</td>\n",
       "      <td>9</td>\n",
       "    </tr>\n",
       "    <tr>\n",
       "      <th>3</th>\n",
       "      <td>1610612748</td>\n",
       "      <td>201609</td>\n",
       "      <td>70.29572</td>\n",
       "      <td>7.46278</td>\n",
       "      <td>0.00000</td>\n",
       "      <td>706.62</td>\n",
       "      <td>8.92</td>\n",
       "      <td>Goran Dragic</td>\n",
       "      <td>7</td>\n",
       "    </tr>\n",
       "    <tr>\n",
       "      <th>4</th>\n",
       "      <td>1610612748</td>\n",
       "      <td>202355</td>\n",
       "      <td>83.90212</td>\n",
       "      <td>34.19776</td>\n",
       "      <td>0.00000</td>\n",
       "      <td>706.62</td>\n",
       "      <td>8.92</td>\n",
       "      <td>Hassan Whiteside</td>\n",
       "      <td>21</td>\n",
       "    </tr>\n",
       "    <tr>\n",
       "      <th>5</th>\n",
       "      <td>1610612748</td>\n",
       "      <td>204020</td>\n",
       "      <td>87.10757</td>\n",
       "      <td>47.84178</td>\n",
       "      <td>0.00000</td>\n",
       "      <td>706.62</td>\n",
       "      <td>8.92</td>\n",
       "      <td>Tyler Johnson</td>\n",
       "      <td>8</td>\n",
       "    </tr>\n",
       "    <tr>\n",
       "      <th>6</th>\n",
       "      <td>1610612742</td>\n",
       "      <td>1717</td>\n",
       "      <td>73.23341</td>\n",
       "      <td>27.90537</td>\n",
       "      <td>0.00000</td>\n",
       "      <td>706.62</td>\n",
       "      <td>8.92</td>\n",
       "      <td>Dirk Nowitzki</td>\n",
       "      <td>41</td>\n",
       "    </tr>\n",
       "    <tr>\n",
       "      <th>7</th>\n",
       "      <td>1610612742</td>\n",
       "      <td>200826</td>\n",
       "      <td>84.12922</td>\n",
       "      <td>31.64608</td>\n",
       "      <td>0.00000</td>\n",
       "      <td>706.62</td>\n",
       "      <td>8.92</td>\n",
       "      <td>Jose Juan Barea</td>\n",
       "      <td>5</td>\n",
       "    </tr>\n",
       "    <tr>\n",
       "      <th>8</th>\n",
       "      <td>1610612742</td>\n",
       "      <td>2585</td>\n",
       "      <td>84.09753</td>\n",
       "      <td>28.95075</td>\n",
       "      <td>0.00000</td>\n",
       "      <td>706.62</td>\n",
       "      <td>8.92</td>\n",
       "      <td>Zaza Pachulia</td>\n",
       "      <td>27</td>\n",
       "    </tr>\n",
       "    <tr>\n",
       "      <th>9</th>\n",
       "      <td>1610612742</td>\n",
       "      <td>202083</td>\n",
       "      <td>82.54378</td>\n",
       "      <td>13.31071</td>\n",
       "      <td>0.00000</td>\n",
       "      <td>706.62</td>\n",
       "      <td>8.92</td>\n",
       "      <td>Wesley Matthews</td>\n",
       "      <td>23</td>\n",
       "    </tr>\n",
       "    <tr>\n",
       "      <th>10</th>\n",
       "      <td>1610612742</td>\n",
       "      <td>202718</td>\n",
       "      <td>74.64288</td>\n",
       "      <td>11.58677</td>\n",
       "      <td>0.00000</td>\n",
       "      <td>706.62</td>\n",
       "      <td>8.92</td>\n",
       "      <td>Chandler Parsons</td>\n",
       "      <td>25</td>\n",
       "    </tr>\n",
       "  </tbody>\n",
       "</table>\n",
       "</div>"
      ],
      "text/plain": [
       "       team_id  player_id     x_loc     y_loc    z_loc  game_clock  \\\n",
       "0           -1         -1  75.32556   5.98097  5.49124      706.62   \n",
       "1   1610612748       2547  63.70920  34.45719  0.00000      706.62   \n",
       "2   1610612748       2736  81.69544  11.30207  0.00000      706.62   \n",
       "3   1610612748     201609  70.29572   7.46278  0.00000      706.62   \n",
       "4   1610612748     202355  83.90212  34.19776  0.00000      706.62   \n",
       "5   1610612748     204020  87.10757  47.84178  0.00000      706.62   \n",
       "6   1610612742       1717  73.23341  27.90537  0.00000      706.62   \n",
       "7   1610612742     200826  84.12922  31.64608  0.00000      706.62   \n",
       "8   1610612742       2585  84.09753  28.95075  0.00000      706.62   \n",
       "9   1610612742     202083  82.54378  13.31071  0.00000      706.62   \n",
       "10  1610612742     202718  74.64288  11.58677  0.00000      706.62   \n",
       "\n",
       "    shot_clock       player_name player_jersey  \n",
       "0         8.92              ball           NaN  \n",
       "1         8.92        Chris Bosh             1  \n",
       "2         8.92         Luol Deng             9  \n",
       "3         8.92      Goran Dragic             7  \n",
       "4         8.92  Hassan Whiteside            21  \n",
       "5         8.92     Tyler Johnson             8  \n",
       "6         8.92     Dirk Nowitzki            41  \n",
       "7         8.92   Jose Juan Barea             5  \n",
       "8         8.92     Zaza Pachulia            27  \n",
       "9         8.92   Wesley Matthews            23  \n",
       "10        8.92  Chandler Parsons            25  "
      ]
     },
     "execution_count": 30,
     "metadata": {},
     "output_type": "execute_result"
    }
   ],
   "source": [
    "df.head(11)"
   ]
  },
  {
   "cell_type": "code",
   "execution_count": 43,
   "metadata": {
    "collapsed": false
   },
   "outputs": [],
   "source": [
    "wade = df[df.player_name==\"Dwyane Wade\"]\n",
    "court = plt.imread(\"/home/keith/nba/fullcourt.png\")"
   ]
  },
  {
   "cell_type": "code",
   "execution_count": 39,
   "metadata": {
    "collapsed": false
   },
   "outputs": [
    {
     "data": {
      "image/png": "[encoded data removed]",
      "text/plain": [
       "<matplotlib.figure.Figure at 0x7fb9c56fc5d0>"
      ]
     },
     "metadata": {},
     "output_type": "display_data"
    }
   ],
   "source": [
    "plt.figure(figsize=(15, 11.5))\n",
    "\n",
    "# Plot the movemnts as scatter plot\n",
    "# using a colormap to show change in game clock\n",
    "plt.scatter(wade.x_loc, wade.y_loc, c=wade.game_clock,\n",
    "            cmap=plt.cm.Blues, s=1000, zorder=1)\n",
    "# Darker colors represent moments earlier on in the game\n",
    "\n",
    "# This plots the court\n",
    "# zorder=0 sets the court lines underneath Harden's movements\n",
    "# extent sets the x and y axis values to plot the image within.\n",
    "# The original animation plots in the SVG coordinate space\n",
    "# which has x=0, and y=0 at the top left.\n",
    "# So, we set the axis values the same way in this plot.\n",
    "# In the list we pass to extent 0,94 representing the x-axis \n",
    "# values and 50,0 representing the y-axis values\n",
    "plt.imshow(court, zorder=0, extent=[0,94,50,0])\n",
    "\n",
    "# extend the x-values beyond the court b/c Harden\n",
    "# goes out of bounds\n",
    "plt.xlim(0,101)\n",
    "\n",
    "\n",
    "plt.show()"
   ]
  },
  {
   "cell_type": "code",
   "execution_count": null,
   "metadata": {
    "collapsed": true
   },
   "outputs": [],
   "source": []
  }
 ],
 "metadata": {
  "kernelspec": {
   "display_name": "Python 2",
   "language": "python",
   "name": "python2"
  },
  "language_info": {
   "codemirror_mode": {
    "name": "ipython",
    "version": 2
   },
   "file_extension": ".py",
   "mimetype": "text/x-python",
   "name": "python",
   "nbconvert_exporter": "python",
   "pygments_lexer": "ipython2",
   "version": "2.7.6"
  }
 },
 "nbformat": 4,
 "nbformat_minor": 0
}
