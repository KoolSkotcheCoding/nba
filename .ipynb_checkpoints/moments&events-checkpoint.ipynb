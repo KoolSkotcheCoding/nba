{
 "cells": [
  {
   "cell_type": "code",
   "execution_count": null,
   "metadata": {
    "collapsed": true
   },
   "outputs": [],
   "source": [
    "##Events and Moments"
   ]
  },
  {
   "cell_type": "code",
   "execution_count": 1,
   "metadata": {
    "collapsed": false
   },
   "outputs": [],
   "source": [
    "import pandas as pd\n",
    "import numpy as np\n",
    "import json\n",
    "import math\n",
    "from decimal import Decimal\n",
    "import collections\n",
    "from operator import itemgetter\n",
    "\n",
    "%matplotlib inline\n",
    "import matplotlib.pyplot as plt\n",
    "import seaborn as sns\n",
    "\n",
    "from IPython.display import IFrame\n",
    "\n",
    "sns.set_color_codes()\n",
    "sns.set_style(\"white\")"
   ]
  },
  {
   "cell_type": "code",
   "execution_count": 2,
   "metadata": {
    "collapsed": true
   },
   "outputs": [],
   "source": [
    "with open('/nbaData/0021500491.json') as data_file:\n",
    "    data=json.load(data_file)"
   ]
  },
  {
   "cell_type": "code",
   "execution_count": null,
   "metadata": {
    "collapsed": false
   },
   "outputs": [],
   "source": [
    "#print data.keys()\n",
    "\n",
    "\n",
    "#print data[\"gamedate\"],data[\"gameid\"]\n",
    "\n",
    "#print data[\"events\"][0][\"visitor\"]\n",
    "#print data[\"events\"][0][\"home\"]\n",
    "print 200000/len(data[\"events\"])\n"
   ]
  },
  {
   "cell_type": "code",
   "execution_count": 73,
   "metadata": {
    "collapsed": false
   },
   "outputs": [],
   "source": [
    "#moments \n",
    "#contains (quarter, ?, game clock (seconds), shot clock (seconds),\n",
    "#          ?, player+ball position===position)\n",
    "\n",
    "#shot clock can be empty (none, nonetype, etc.)\n",
    "#position contains: (team ID, player ID, x position, y position, z position)\n",
    "\n",
    "#For ball, team ID = -1, player ID = -1, z position could be physically meaningful\n",
    "#For players, z position is always zero. \n",
    "\n",
    "class NBA_moment:\n",
    "    def __init__(self,rawMoment,eventID,players):#,home,away):\n",
    "        self.quarter=rawMoment[0]\n",
    "        if rawMoment:\n",
    "            self.momentDict={}\n",
    "            self.momentDict['gameClock']=rawMoment[2]\n",
    "            self.momentDict['shotClock']=rawMoment[3]\n",
    "        \n",
    "        \n",
    "        \n",
    "            #collect player and ball positions into dictionary with indices (playerID,'x') where x indicates the x position.\n",
    "            for player in rawMoment[5]:\n",
    "                #self.momentDict[player[1]]=[player[2],player[3],player[4]]\n",
    "                self.momentDict[(player[1],'x')]=player[2]\n",
    "                self.momentDict[(player[1],'y')]=player[3]\n",
    "                if player[1]==-1:\n",
    "                    self.momentDict[(player[1],'z')]=player[4]\n",
    "                \n",
    "                \n",
    "        self.momentDF=pd.DataFrame(self.momentDict, index=[0])\n",
    "                \n",
    "        tempPlayers=set([index[0] for index in self.momentDF.columns.values if type(index) is tuple])\n",
    "        tempPlayers.remove(-1)\n",
    "\n",
    "        xBall=self.momentDF[(-1,'x')]\n",
    "        yBall=self.momentDF[(-1,'y')]\n",
    "        distance={}\n",
    "        for player in tempPlayers:\n",
    "            xdistance=testGame.event.iloc[0][(player,'x')]-xBall\n",
    "            ydistance=testGame.event.iloc[0][(player,'y')]-yBall\n",
    "            distance[player]=math.sqrt(xdistance**2 + ydistance**2)\n",
    "        self.momentDF['closest to ball'] =[(min(distance, key=distance.get),distance[min(distance, key=distance.get)])]\n",
    "\n",
    "        \n",
    "        "
   ]
  },
  {
   "cell_type": "code",
   "execution_count": 74,
   "metadata": {
    "collapsed": false
   },
   "outputs": [],
   "source": [
    "class NBA_game:\n",
    "    def __init__(self, rawGame):\n",
    "        self.home=rawGame[\"events\"][0][\"home\"]\n",
    "        self.away=data[\"events\"][0][\"visitor\"]\n",
    "        self.gameDate=rawGame[\"gamedate\"]\n",
    "        self.gameID=rawGame[\"gameid\"]\n",
    "        \n",
    "        self.homePlayers=pd.DataFrame(data[\"events\"][0][\"home\"][\"players\"])\n",
    "        self.awayPlayers=pd.DataFrame(data[\"events\"][0][\"visitor\"][\"players\"])\n",
    "\n",
    "        self.players=self.homePlayers.append(self.awayPlayers,ignore_index=True)\n",
    "        \n",
    "        self.gameIndex=['gameClock','shotClock','quarter','eventID','-1'+'_x','-1'+'_y','-1'+'_z']\n",
    "        for playerID in self.players['playerid']:\n",
    "            self.gameIndex.append(str(playerID)+'_x')\n",
    "            self.gameIndex.append(str(playerID)+'_y')\n",
    "            self.gameIndex.append(str(playerID)+'_z')\n",
    "        \n",
    "        \n",
    "        \n",
    "        \n",
    "        \n",
    "        self.momentCnt=0\n",
    "        for event in rawGame[\"events\"]:\n",
    "            for moment in event[\"moments\"]:\n",
    "                if moment:\n",
    "                    self.momentCnt+=1\n",
    "        \n",
    "        #self.gameDF=pd.DataFrame(np.zeros((self.momentCnt,3*(len(self.players)+1)+4)),columns=self.gameIndex)\n",
    "        tmp=0\n",
    "        for event in rawGame[\"events\"]:\n",
    "            for moment in event[\"moments\"]:\n",
    "                if moment:\n",
    "                    if tmp<25:\n",
    "                        if tmp==0:\n",
    "                            self.event=NBA_moment(moment,event['eventId'],self.players).momentDF\n",
    "                        else:\n",
    "                            self.event=self.event.append(NBA_moment(moment,event['eventId'],self.players).momentDF,ignore_index=True)\n",
    "                        #self.gameDF['gameClock'][tmp]=1\n",
    "                        tmp+=1\n",
    "                        #self.moment=NBA_moment(moment,event['eventId'],self.players).momentDF\n",
    "                        #self.event=NBA_moment(moment,event['eventId'],self.players).momentDF\n",
    "        \n",
    "        \n",
    "        \n",
    "        #ordered list of moments\n",
    "#        self.moments=[]\n",
    "##        self.tmp=1\n",
    " #       for event in rawGame[\"events\"]:\n",
    "#           if int(event['eventId'])<5:\n",
    " #               for moment in event[\"moments\"]:\n",
    "#                   if moment:\n",
    " #                       momentDict={}\n",
    "#                        momentDict['gameClock']=moment[2]\n",
    "#                        momentDict['shotClock']=moment[3]\n",
    "        \n",
    "           # for playerID in players:\n",
    "#                self.momentDict[playerID]=np.nan\n",
    "#                self.momentDict[str(playerID)+'_x']=np.nan\n",
    "#                self.momentDict[str(playerID)+'_y']=np.nan\n",
    "##                self.momentDict[str(playerID)+'_y']=np.nan\n",
    "#            for player in rawMoment[5]:\n",
    "#                #self.momentDict[player[1]]=[player[2],player[3],player[4]]\n",
    "#                self.momentDict[str(player[1])+'_x']=player[2]\n",
    "#                self.momentDict[str(player[1])+'_y']=player[3]\n",
    "#                self.momentDict[str(player[1])+'_z']=player[4]\n",
    "                \n",
    "                \n",
    "#        self.momentDF=pd.DataFrame(self.momentDict, index=[0])    "
   ]
  },
  {
   "cell_type": "code",
   "execution_count": 75,
   "metadata": {
    "collapsed": false
   },
   "outputs": [
    {
     "name": "stdout",
     "output_type": "stream",
     "text": [
      "******************\n",
      "******************\n",
      "    gameClock  shotClock   (-1, x)   (-1, y)  (-1, z)  (1717, x)  (1717, y)  \\\n",
      "0      706.62       8.92  75.32556   5.98097  5.49124   73.23341   27.90537   \n",
      "1      706.58       8.90  76.07296   5.46993  5.15024   73.24258   27.92304   \n",
      "2      706.54       8.88  76.81954   5.19475  4.95356   73.29134   27.90610   \n",
      "3      706.49       8.86  77.57706   5.46789  4.93948   73.34437   27.89221   \n",
      "4      706.45       8.85  78.24726   5.89358  4.89680   73.35804   27.89017   \n",
      "5      706.41       8.83  78.98622   6.39669  4.75053   73.34420   27.83361   \n",
      "6      706.37       8.81  79.75325   6.93706  4.44634   73.35509   27.79265   \n",
      "7      706.33       8.80  80.55254   7.51884  3.98987   73.35453   27.72277   \n",
      "8      706.29       8.78  81.38831   8.14618  3.38672   73.36342   27.64515   \n",
      "9      706.25       8.76  82.26478   8.82324  2.64252   73.42046   27.57551   \n",
      "10     706.21       8.74  83.18615   9.55419  1.76288   73.49255   27.57961   \n",
      "11     706.17       8.73  84.15663  10.34316  0.75342   73.56583   27.57031   \n",
      "12     706.13       8.71  83.80734   9.62115  2.58296   73.66761   27.54180   \n",
      "13     706.09       8.69  83.45805   8.89913  4.41250   73.78441   27.46916   \n",
      "14     706.05       8.67  83.39822   8.97682  4.17034   73.92110   27.39245   \n",
      "15     706.01       8.66  83.33839   9.05450  3.92817   74.07142   27.32989   \n",
      "16     705.97       8.64  83.27856   9.13219  3.68600   74.23168   27.33284   \n",
      "17     705.93       8.62  83.29258   9.03944  3.45805   74.38244   27.28986   \n",
      "18     705.89       8.60  83.10254   9.58026  1.34442   74.52962   27.24157   \n",
      "19     705.85       8.59  82.68494   8.75640  2.29719   74.63221   27.21972   \n",
      "20     705.81       8.57  83.26289   9.63127  3.08617   74.72071   27.21119   \n",
      "21     705.77       8.55  83.20369   9.85101  2.99169   74.81441   27.21671   \n",
      "22     705.73       8.54  83.14449  10.00217  2.74622   74.92527   27.22668   \n",
      "23     705.69       8.52  83.14732  10.20105  1.94913   75.03723   27.24722   \n",
      "24     705.65       8.50  83.03427  10.63748  0.55764   75.15021   27.28636   \n",
      "\n",
      "    (2547, x)  (2547, y)  (2585, x)           ...             (201609, y)  \\\n",
      "0    63.70920   34.45719   84.09753           ...                 7.46278   \n",
      "1    63.76077   34.51266   84.04476           ...                 7.43250   \n",
      "2    63.81654   34.56956   84.00746           ...                 7.41199   \n",
      "3    63.88033   34.62889   83.96455           ...                 7.43118   \n",
      "4    63.95229   34.69868   83.92526           ...                 7.47740   \n",
      "5    64.05493   34.82454   83.89487           ...                 7.54605   \n",
      "6    64.16253   34.96045   83.87171           ...                 7.65489   \n",
      "7    64.27640   35.10301   83.86252           ...                 7.77937   \n",
      "8    64.37058   35.20027   83.86335           ...                 7.91426   \n",
      "9    64.43578   35.23792   83.89008           ...                 8.07163   \n",
      "10   64.52878   35.32928   83.92488           ...                 8.20122   \n",
      "11   64.62717   35.41666   83.97006           ...                 8.35833   \n",
      "12   64.75166   35.55303   84.03007           ...                 8.57585   \n",
      "13   64.84837   35.62914   84.10332           ...                 8.82817   \n",
      "14   64.94988   35.69723   84.20361           ...                 9.10184   \n",
      "15   65.05318   35.75878   84.32247           ...                 9.39863   \n",
      "16   65.15828   35.82161   84.44618           ...                 9.73712   \n",
      "17   65.27538   35.88770   84.57728           ...                10.05000   \n",
      "18   65.39914   35.96397   84.71827           ...                10.36866   \n",
      "19   65.52442   36.03708   84.86004           ...                10.70029   \n",
      "20   65.62530   36.06202   85.02432           ...                11.04672   \n",
      "21   65.72982   36.07828   85.20327           ...                11.39165   \n",
      "22   65.83514   36.10395   85.38439           ...                11.75146   \n",
      "23   65.96871   36.17564   85.56857           ...                12.12532   \n",
      "24   66.13102   36.30486   85.76181           ...                12.50774   \n",
      "\n",
      "    (202083, x)  (202083, y)  (202355, x)  (202355, y)  (202718, x)  \\\n",
      "0      82.54378     13.31071     83.90212     34.19776     74.64288   \n",
      "1      82.61667     13.24250     83.91800     34.18653     74.75102   \n",
      "2      82.69468     13.17675     83.94676     34.17626     74.86572   \n",
      "3      82.76718     13.11543     83.96828     34.17380     74.97195   \n",
      "4      82.84596     13.04656     84.08526     34.18521     75.14556   \n",
      "5      82.92632     12.97547     84.19983     34.13080     75.26258   \n",
      "6      82.95911     12.90750     84.33065     34.12861     75.36826   \n",
      "7      82.99115     12.85512     84.49499     34.07396     75.46444   \n",
      "8      83.02902     12.76859     84.66036     34.03863     75.57587   \n",
      "9      83.08233     12.72178     84.83020     34.02343     75.64830   \n",
      "10     83.15824     12.67513     85.00661     34.00909     75.71557   \n",
      "11     83.29781     12.60019     85.19199     33.99716     75.76447   \n",
      "12     83.39623     12.52684     85.39328     33.98399     75.80382   \n",
      "13     83.49870     12.46249     85.60331     33.98089     75.82751   \n",
      "14     83.59233     12.40782     85.82143     33.98063     75.85169   \n",
      "15     83.68374     12.37629     86.05094     33.98857     75.87063   \n",
      "16     83.77158     12.35507     86.28123     34.00047     75.86432   \n",
      "17     83.86257     12.37100     86.52088     34.08571     75.84677   \n",
      "18     83.95411     12.39692     86.77184     34.20480     75.82563   \n",
      "19     84.01919     12.38739     86.95633     34.32994     75.77634   \n",
      "20     84.07108     12.38438     87.16310     34.49210     75.71601   \n",
      "21     84.18379     12.43387     87.36275     34.61452     75.65145   \n",
      "22     84.26402     12.42031     87.53140     34.80129     75.58072   \n",
      "23     84.36396     12.49847     87.70462     34.98095     75.48763   \n",
      "24     84.45624     12.55469     87.88453     35.16871     75.42221   \n",
      "\n",
      "    (202718, y)  (204020, x)  (204020, y)          closest to ball  \n",
      "0      11.58677     87.10757     47.84178  (201609, 5.24357237975)  \n",
      "1      11.50829     87.11137     47.84143  (201609, 6.11129717328)  \n",
      "2      11.44494     87.11455     47.84169  (202718, 6.75246387891)  \n",
      "3      11.38943     87.11607     47.84106  (202718, 6.78602274729)  \n",
      "4      11.41588     87.11669     47.83964    (2736, 6.41418033676)  \n",
      "5      11.42395     87.11725     47.83994    (2736, 5.60380459624)  \n",
      "6      11.46143     87.11804     47.83975    (2736, 4.77759503267)  \n",
      "7      11.52006     87.11939     47.83968    (2736, 3.95209433629)  \n",
      "8      11.58100     87.12038     47.84028    (2736, 3.17079966712)  \n",
      "9      11.68560     87.12242     47.84035    (2736, 2.54337299752)  \n",
      "10     11.80643     87.12422     47.84083    (2736, 2.29723764519)  \n",
      "11     11.96170     87.12817     47.84274    (2736, 2.64139444313)  \n",
      "12     12.13488     87.13260     47.84258    (2736, 2.69918759192)  \n",
      "13     12.31234     87.13801     47.84318    (2736, 2.98008635038)  \n",
      "14     12.49813     87.14130     47.84190     (2736, 2.8820560874)  \n",
      "15     12.62074     87.14451     47.84108     (2736, 2.7840358488)  \n",
      "16     12.81712     87.14462     47.83986     (2736, 2.6860097075)  \n",
      "17     13.02455     87.14187     47.83684    (2736, 2.76953979868)  \n",
      "18     13.19617     87.13646     47.83322    (2736, 2.22363668033)  \n",
      "19     13.34455     87.12580     47.82990    (2736, 2.73121694468)  \n",
      "20     13.50425     87.10822     47.82235    (2736, 2.29095441738)  \n",
      "21     13.67303     87.08434     47.81413    (2736, 2.09293888733)  \n",
      "22     13.85840     87.05295     47.80442    (2736, 1.94666019441)  \n",
      "23     14.06189     87.01430     47.79196    (2736, 1.82214175486)  \n",
      "24     14.27609     86.96676     47.78334    (2736, 1.49470586973)  \n",
      "\n",
      "[25 rows x 26 columns]\n"
     ]
    }
   ],
   "source": [
    "#4.5 million player/ball in the entire game. \n",
    "\n",
    "testGame=NBA_game(data)\n",
    "\n",
    "#print testGame.gameID\n",
    "#/usr/local/lib\n",
    "#print testGame.gameDate\n",
    "#print testGame.events[0].moments[22].event\n",
    "#print testGame.events[0].moments[22].shotClock\n",
    "#print testGame.moments[0].gameClock\n",
    "\n",
    "#print len(testGame.moments)*11*2\n",
    "\n",
    "print \"******************\"\n",
    "#print testGame.moments[0].awayPositions\n",
    "print \"******************\"\n",
    "#testPositions= testGame.get_playerMovements(range(0,2))\n",
    "#print testGame.moments[0].homePositions\n",
    "#print testGame.moments[0].rawMoment\n",
    "\n",
    "\n",
    "print testGame.event"
   ]
  },
  {
   "cell_type": "code",
   "execution_count": 41,
   "metadata": {
    "collapsed": false
   },
   "outputs": [
    {
     "name": "stdout",
     "output_type": "stream",
     "text": [
      "5.24357237975\n",
      "8\n"
     ]
    }
   ],
   "source": [
    "\n",
    "#for index in testGame.event.iloc[0].index.values:\n",
    "#    print index\n",
    "#    print type(index)\n",
    "#    print '******'\n",
    "\n",
    "#print testGame.event.iloc[0]\n",
    "\n",
    "\n",
    "\n",
    "dtf=set([index[0] for index in testGame.event.iloc[0].index.values if type(index) is tuple])\n",
    "dtf.remove(-1)\n",
    "\n",
    "xBall=testGame.event.iloc[0][(-1,'x')]\n",
    "yBall=testGame.event.iloc[0][(-1,'y')]\n",
    "distance={}\n",
    "for player in dtf:\n",
    "    xdistance=testGame.event.iloc[0][(player,'x')]-xBall\n",
    "    ydistance=testGame.event.iloc[0][(player,'y')]-yBall\n",
    "    distance[player]=math.sqrt(xdistance**2 + ydistance**2)\n",
    "    \n",
    "\n",
    "#print dtf.remove(-1)\n",
    "minPlayer= min(distance, key=distance.get)\n",
    "print distance[minPlayer]\n",
    "print 2**3"
   ]
  },
  {
   "cell_type": "code",
   "execution_count": 69,
   "metadata": {
    "collapsed": false
   },
   "outputs": [
    {
     "data": {
      "text/plain": [
       "<matplotlib.axes.AxesSubplot at 0x7f7cd63e0e50>"
      ]
     },
     "execution_count": 69,
     "metadata": {},
     "output_type": "execute_result"
    },
    {
     "data": {
      "image/png": "[encoded data removed]",
      "text/plain": [
       "<matplotlib.figure.Figure at 0x7f7d0b95bb50>"
      ]
     },
     "metadata": {},
     "output_type": "display_data"
    },
    {
     "data": {
      "image/png": "[encoded data removed]",
      "text/plain": [
       "<matplotlib.figure.Figure at 0x7f7cd6362190>"
      ]
     },
     "metadata": {},
     "output_type": "display_data"
    }
   ],
   "source": [
    "testGame.event.plot.scatter(x=(-1,'x'),y=(-1,'y'))\n",
    "testGame.event.plot.scatter(x=(1717,'x'),y=(1717,'y'))\n",
    "\n",
    "\n",
    "\n",
    "#print testGame.gameDF\n",
    "#np.zeros((self.momentCnt,3*(len(self.players)+1)+4)\n",
    "#tstzeros=np.zeros((3,2))\n",
    "#print testGame.gameDF.shape\n",
    "\n",
    "#print testGame.gameDF['gameClock'][49990:50010]\n",
    "\n"
   ]
  },
  {
   "cell_type": "code",
   "execution_count": null,
   "metadata": {
    "collapsed": false
   },
   "outputs": [],
   "source": [
    "print len(testPositions)\n",
    "\n",
    "\n",
    "#for keys in testPositions[0][1][0].keys():\n",
    "#    print keys\n",
    "    \n",
    "#gameClock =[testPositions[i][0] for i,tmpPos in enumerate(testPositions)]\n",
    "\n",
    "playerPositions={}\n",
    "for moment,tmpPosition in enumerate(testPositions):\n",
    "    for playerKey in tmpPosition[1][0].keys():\n",
    "        if not bool(playerKey in playerPositions.keys()):\n",
    "            playerPositions[playerKey]=[]\n",
    "            playerPositions[playerKey].append(tmpPosition[1][0][playerKey])\n",
    "        else:\n",
    "            playerPositions[playerKey].append(tmpPosition[1][0][playerKey])\n",
    "            \n",
    "            \n",
    "print playerPositions[playerPositions.keys()[0]]\n",
    "\n",
    "\n"
   ]
  },
  {
   "cell_type": "code",
   "execution_count": null,
   "metadata": {
    "collapsed": false
   },
   "outputs": [],
   "source": [
    "\n",
    "newPossession=[]\n",
    "initClock=0\n",
    "\n",
    "for momentIndex,moment in enumerate(testGame.moments):\n",
    "    if moment.shotClock != None:\n",
    "        if initClock==0:\n",
    "            newPossession.append(momentIndex)\n",
    "        elif (moment.shotClock>=23\n",
    "              and testGame.moments[newPossession[-1]].gameClock-initClock>0\n",
    "              and momentIndex-newPossession[-1]>500):\n",
    "            #print testGame.moments[newPossession[-1]].gameClock-initClock\n",
    "            newPossession.append(momentIndex)\n",
    "        initClock=moment.gameClock\n",
    "            \n",
    "print len(newPossession)\n",
    "#print newPossession"
   ]
  },
  {
   "cell_type": "code",
   "execution_count": null,
   "metadata": {
    "collapsed": false
   },
   "outputs": [],
   "source": [
    "momentRange=range(newPossession[0],newPossession[1])\n",
    "\n",
    "testPossession= testGame.get_playerMovements(momentRange)\n",
    "\n",
    "gameClocks =[testPossession[i][0] for i,tmpPos in enumerate(momentRange)]\n",
    "\n",
    "\n",
    "\n",
    "playerPositions={}\n",
    "for moment,tmpPosition in enumerate(testPossession):\n",
    "    for playerKey in tmpPosition[1][0].keys():\n",
    "        if not bool(playerKey in playerPositions.keys()):\n",
    "            playerPositions[playerKey]=[]\n",
    "            playerPositions[playerKey].append(tmpPosition[1][0][playerKey])\n",
    "        else:\n",
    "            playerPositions[playerKey].append(tmpPosition[1][0][playerKey])\n",
    "            \n",
    "print playerPositions[playerPositions.keys()[0]][:][0]\n",
    "#print (playerPositions.keys())\n",
    "#print gameClocks"
   ]
  },
  {
   "cell_type": "code",
   "execution_count": null,
   "metadata": {
    "collapsed": false
   },
   "outputs": [],
   "source": [
    "#It appears as though shot clock and gameclock are not \n",
    "#properly synced for all moments. \n",
    "#This is indicated by the plots below. \n",
    "\n",
    "shotClocks=[]\n",
    "gameClocks=[]\n",
    "for i in range(newPossession[9],newPossession[10]):\n",
    "    if testGame.moments[i].shotClock!=None:\n",
    "        shotClocks.append(testGame.moments[i].shotClock)\n",
    "        gameClocks.append(testGame.moments[i].gameClock)\n",
    "#print shotClocks\n",
    "#print len(shotClocks)\n",
    "#print shotClocks\n",
    "plt.scatter(range(0,len(shotClocks)),shotClocks)\n",
    "plt.show()\n",
    "\n",
    "plt.plot(gameClocks)\n",
    "plt.show()"
   ]
  },
  {
   "cell_type": "code",
   "execution_count": null,
   "metadata": {
    "collapsed": false
   },
   "outputs": [],
   "source": [
    "#check out player movement continuity within my 'possessions'\n",
    "\n",
    "home=[[],[]]\n",
    "away=[[],[]]\n",
    "\n",
    "for i in range(newPossession[9],newPossession[10]):\n",
    "    if shotClock!=None:\n",
    "        #x position\n",
    "        for player in range(0,4):\n",
    "            home[0].append(testGame.moments[i].homePosition[player][2])\n",
    "            away[0].append(testGame.moments[i].awayPosition[player][2])\n",
    "             \n",
    "        #away position\n",
    "            home[1].append(testGame.moments[i].homePosition[player][3])\n",
    "            away[1].append(testGame.moments[i].awayPosition[player][3])\n",
    "        \n",
    "        \n"
   ]
  },
  {
   "cell_type": "code",
   "execution_count": null,
   "metadata": {
    "collapsed": false
   },
   "outputs": [],
   "source": [
    "\n",
    "\n",
    "sest=[x for x in range(0,50000)]\n",
    "\n",
    "print sest\n",
    "\n",
    "\n",
    "\n"
   ]
  }
 ],
 "metadata": {
  "kernelspec": {
   "display_name": "Python 2",
   "language": "python",
   "name": "python2"
  },
  "language_info": {
   "codemirror_mode": {
    "name": "ipython",
    "version": 2
   },
   "file_extension": ".py",
   "mimetype": "text/x-python",
   "name": "python",
   "nbconvert_exporter": "python",
   "pygments_lexer": "ipython2",
   "version": "2.7.6"
  }
 },
 "nbformat": 4,
 "nbformat_minor": 0
}
