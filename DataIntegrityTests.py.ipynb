{
 "cells": [
  {
   "cell_type": "code",
   "execution_count": 3,
   "metadata": {
    "collapsed": true
   },
   "outputs": [],
   "source": [
    "import sys\n",
    "import json\n",
    "sys.path.append('/home/keith/nba/production')\n",
    "from nba import nbaGame\n",
    "\n",
    "\n"
   ]
  },
  {
   "cell_type": "code",
   "execution_count": 10,
   "metadata": {
    "collapsed": false
   },
   "outputs": [],
   "source": [
    "with open('/nbaData/0021500491.json') as data_file:\n",
    "    bata=json.load(data_file)\n",
    "testGame=nbaGame.NBA_game(bata)"
   ]
  },
  {
   "cell_type": "code",
   "execution_count": 13,
   "metadata": {
    "collapsed": false
   },
   "outputs": [
    {
     "name": "stdout",
     "output_type": "stream",
     "text": [
      "2547\n",
      "2548\n",
      "2405\n",
      "201609\n",
      "204020\n",
      "2736\n",
      "2365\n",
      "101123\n",
      "2757\n",
      "1626159\n",
      "202355\n",
      "2617\n",
      "101109\n",
      "101111\n",
      "200826\n",
      "203939\n",
      "101114\n",
      "201580\n",
      "203098\n",
      "202379\n",
      "202083\n",
      "202718\n",
      "2585\n",
      "2734\n",
      "1717\n"
     ]
    }
   ],
   "source": [
    "for id in testGame.players['playerid']:\n",
    "    print id"
   ]
  },
  {
   "cell_type": "code",
   "execution_count": null,
   "metadata": {
    "collapsed": true
   },
   "outputs": [],
   "source": [
    "d"
   ]
  },
  {
   "cell_type": "code",
   "execution_count": 8,
   "metadata": {
    "collapsed": false
   },
   "outputs": [
    {
     "name": "stdout",
     "output_type": "stream",
     "text": [
      "processing event: 44\n",
      "processing event: 45\n",
      "processing event: 46\n",
      "processing event: 47\n",
      "processing event: 48\n",
      "processing event: 49\n",
      "processing event: 50\n",
      "processing event: 51\n",
      "processing event: 52\n",
      "processing event: 53\n",
      "processing event: 54\n",
      "processing event: 55\n",
      "processing event: 56\n",
      "processing event: 57\n",
      "processing event: 58\n",
      "processing event: 59\n",
      "{57: 'continuous', 58: 'continuous', 59: 'continuous', 44: 'continuous', 45: 'continuous'}\n"
     ]
    }
   ],
   "source": [
    "#check for game clock discontinuities (game clock is strictly decreasing for the moments within an event)\n",
    "tespPoss=[]\n",
    "continuous={}\n",
    "for i in range(44,60):\n",
    "    print 'processing event:', i\n",
    "    found,tespPoss=testGame.getEvent(i)\n",
    "    if found:\n",
    "        times=nbaGame.timeElapsed(tespPoss)\n",
    "        diff=times[:][['gameClock']]-times[:][['gameClock']].shift(-1)\n",
    "        if not (diff<0).any()[0]:\n",
    "            continuous[i]='continuous'\n",
    "    continue\n",
    "\n",
    "for thing in continuous.items():\n",
    "    if thing[1] is False:\n",
    "        print 'Event ',thing[0],' is discontinuous'\n",
    "print continuous"
   ]
  }
 ],
 "metadata": {
  "kernelspec": {
   "display_name": "Python 2",
   "language": "python",
   "name": "python2"
  },
  "language_info": {
   "codemirror_mode": {
    "name": "ipython",
    "version": 2
   },
   "file_extension": ".py",
   "mimetype": "text/x-python",
   "name": "python",
   "nbconvert_exporter": "python",
   "pygments_lexer": "ipython2",
   "version": "2.7.6"
  }
 },
 "nbformat": 4,
 "nbformat_minor": 0
}
