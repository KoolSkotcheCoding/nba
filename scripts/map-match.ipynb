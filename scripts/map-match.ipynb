{
 "cells": [
  {
   "cell_type": "code",
   "execution_count": 1,
   "metadata": {
    "collapsed": true
   },
   "outputs": [],
   "source": [
    "import matplotlib.pyplot as plt\n",
    "from matplotlib.patches import Circle, Rectangle, Arc, PathPatch\n",
    "import mpl_toolkits.mplot3d.art3d as art3d\n",
    "from mpl_toolkits.mplot3d import Axes3D\n",
    "import math\n",
    "import numpy\n"
   ]
  },
  {
   "cell_type": "code",
   "execution_count": 2,
   "metadata": {
    "collapsed": true
   },
   "outputs": [],
   "source": [
    "\n",
    "\n",
    "full_length=94\n",
    "full_height=50\n",
    "paintLength=19\n",
    "paintHeight=12\n",
    "foulHeight=16\n",
    "circleRadius=6\n",
    "hoopCenter=4.75\n",
    "rimHeight=10\n",
    "rimDiameter=1.5\n",
    "threeCircle=23.75\n",
    "threeCorner=22\n",
    "threeTheta=math.degrees(math.acos(threeCorner/threeCircle))\n",
    "threeCornerLength=14\n",
    "threeCornerDepth=3\n",
    "lineThickness=0.166\n",
    "restrictedZoneRadius=4\n",
    "\n",
    "\n",
    "\n"
   ]
  },
  {
   "cell_type": "code",
   "execution_count": 3,
   "metadata": {},
   "outputs": [
    {
     "name": "stdout",
     "output_type": "stream",
     "text": [
      "22.1323914015\n"
     ]
    }
   ],
   "source": [
    "print threeTheta"
   ]
  }
 ],
 "metadata": {
  "kernelspec": {
   "display_name": "Python 2",
   "language": "python",
   "name": "python2"
  },
  "language_info": {
   "codemirror_mode": {
    "name": "ipython",
    "version": 2
   },
   "file_extension": ".py",
   "mimetype": "text/x-python",
   "name": "python",
   "nbconvert_exporter": "python",
   "pygments_lexer": "ipython2",
   "version": "2.7.12"
  }
 },
 "nbformat": 4,
 "nbformat_minor": 1
}
