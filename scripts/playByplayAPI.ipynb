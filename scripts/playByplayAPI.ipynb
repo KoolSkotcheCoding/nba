{
 "cells": [
  {
   "cell_type": "code",
   "execution_count": null,
   "metadata": {},
   "outputs": [],
   "source": [
    "#Information on nba stats API; specifically the playByplay endpoint.\n",
    "#Parameters: Parameters:GameID, StartPeriod, EndPeriod\n",
    "# GameID - The field GameID must match the regular expression '^\\d{10}$'. =>contains only 10 digits\n",
    "#        - Note, still returns 200 status/content for nonexistent gameID (ie 9999999999), but rowset is empty list. \n",
    "# StartPeriod - The field StartPeriod must be between 0 and 14.\n",
    "# EndPerios - The field EndPeriod must be between 0 and 14."
   ]
  },
  {
   "cell_type": "code",
   "execution_count": null,
   "metadata": {},
   "outputs": [],
   "source": [
    "##notebook to examine nba play by play data\n",
    "import requests,json\n",
    "\n",
    "r = requests.get('http://stats.nba.com/stats/playbyplay/?GameID=0021400791&StartPeriod=0&EndPeriod=14')\n",
    "#r=requests.get('http://stats.nba.com/stats/playbyplay/?GameID=0021400791')\n",
    "print r.status_code\n",
    "#if r.status_code==200:\n",
    "    #data=r.json()"
   ]
  },
  {
   "cell_type": "code",
   "execution_count": null,
   "metadata": {},
   "outputs": [],
   "source": [
    "\n"
   ]
  },
  {
   "cell_type": "code",
   "execution_count": null,
   "metadata": {},
   "outputs": [],
   "source": [
    "#content of response is json.\n",
    "#Level 1 is a dictionary. With keys [u'resource', u'resultSets', u'parameters']\n",
    "#   ['resource']='playbyplay'\n",
    "#   ['resultSets']=list containing 2 dictionaries. \n",
    "#           2nd dictionary indicates video availability (ostensible useless: potentially related to movements.)\n",
    "# ['resultsSets'][1].keys()='headers','rowSet','name'\n",
    "#   'headers' contains headers for data in 'rowSet'\n",
    "#   'rowSet' list of events (list). (on the order of hundreds of events)\n",
    "#        Each list contains:\n",
    "#   'name' contains the string 'playByplay'\n",
    "\n",
    "\n"
   ]
  },
  {
   "cell_type": "code",
   "execution_count": null,
   "metadata": {},
   "outputs": [],
   "source": [
    "#print r.text\n",
    "\n",
    "#playDict=list(r.text)\n",
    "\n",
    "#print r.json()\n",
    "\n",
    "#data=r.json()\n",
    "#print len(data['resultSets'][0]['rowSet'])"
   ]
  },
  {
   "cell_type": "code",
   "execution_count": null,
   "metadata": {},
   "outputs": [],
   "source": [
    "#print data['resultSets'][0]['headers']\n",
    "\n",
    "#for key in data.keys():\n",
    "    #print type(data[key])\n",
    "    \n",
    "#print '**********'\n",
    "#print data['resultSets'][0].keys()\n",
    "#print '**********'\n",
    "#print type(data['resultSets'][0]['headers'])\n",
    "\n",
    "eventInfo={}\n",
    "for i,rowSet in enumerate(data['resultSets'][0]['rowSet']):\n",
    "    #print '**********'\n",
    "    #print rowSet\n",
    "    eventInfo[rowSet[2]]=[rowSet[i] if rowSet[i] is not None else '' for i in [7,8,9]]\n",
    "    #if x is not None else '' for x in row\n",
    "    if i>=30:\n",
    "        break\n",
    "    #eventInfo[]\n",
    "    \n",
    "#print '**********'\n",
    "#print type(data['resultSets'][0]['name'])\n",
    "print eventInfo\n",
    "\n"
   ]
  },
  {
   "cell_type": "code",
   "execution_count": null,
   "metadata": {},
   "outputs": [],
   "source": [
    "# import os, py7zlib, sys, fnmatch,requests,json\n",
    "\n",
    "# jsonDir = '/nbaData/sportsVUjson'\n",
    "# jsonpattern = '*.json'\n",
    "# u_a = \"Mozilla/5.0 (X11; Linux x86_64) AppleWebKit/537.36 (KHTML, like Gecko) Chrome/48.0.2564.82 Safari/537.36\"\n",
    "\n",
    "\n",
    "# i = 0\n",
    "# jsonFile=[]\n",
    "# jsonDict={}\n",
    "# for root, subdirList, files in os.walk(jsonDir):\n",
    "#     print('Found directory: %s' % root)\n",
    "#     for filename in fnmatch.filter(files, jsonpattern):\n",
    "#         i+=1\n",
    "#         #print i\n",
    "#         gameID=os.path.splitext(filename)[0]\n",
    "#         #jsonFile.append(gameID)\n",
    "#         url='http://stats.nba.com/stats/playbyplay/?GameID='+gameID+'&StartPeriod=0&EndPeriod=14'\n",
    "#         r = requests.get(url,headers={\"USER-AGENT\":u_a})\n",
    "#         jsonDict[(gameID,'httpStatus')]=r.status_code\n",
    "#         with open('/nbaData/playByplayjson/'+gameID+'.json', 'w') as outfile:\n",
    "#             json.dump(data, outfile)\n",
    "\n",
    "        \n",
    "# # data=r.json()\n",
    "# # print gameID, data['resultSets'][0]['rowSet'][0][0]\n",
    "# # print data['resultSets'][0]['headers']\n",
    "# # print data['resultSets'][0]['rowSet'][0]\n",
    "\n",
    "\n",
    "# # with open('/nbaData/playByplayjson/'+gameID+'.json', 'w') as outfile:\n",
    "# #     json.dump(data, outfile)\n",
    "    \n",
    "    \n",
    "# # with open('/nbaData/playByplayjson/'+gameID+'.json') as data_file:\n",
    "# #     bata=json.load(data_file)\n",
    "    \n",
    "# # print '*********'\n",
    "\n",
    "# # print bata['resultSets'][0]['headers']\n",
    "# # print bata['resultSets'][0]['rowSet'][0]\n"
   ]
  },
  {
   "cell_type": "code",
   "execution_count": null,
   "metadata": {},
   "outputs": [],
   "source": [
    "for print jsonDict"
   ]
  },
  {
   "cell_type": "code",
   "execution_count": null,
   "metadata": {},
   "outputs": [],
   "source": [
    "data=r.json()\n",
    "print data['resultSets'][0]['headers']\n",
    "print data['resultSets'][0]['rowset']\n",
    "\n",
    "\n",
    "\n"
   ]
  },
  {
   "cell_type": "code",
   "execution_count": null,
   "metadata": {},
   "outputs": [],
   "source": [
    "import requests,json\n",
    "\n",
    "\n",
    "\n",
    "u_a = \"Mozilla/5.0 (X11; Linux x86_64) AppleWebKit/537.36 (KHTML, like Gecko) Chrome/48.0.2564.82 Safari/537.36\"\n",
    "\n",
    "gameID=str(jsonFile[0])\n",
    "url='http://stats.nba.com/stats/playbyplay/?GameID='+gameID+'&StartPeriod=0&EndPeriod=14'\n",
    "\n",
    "\n",
    "r = requests.get(url,headers={\"USER-AGENT\":u_a})\n",
    "\n",
    "\n",
    "#r = requests.get('http://stats.nba.com/stats/playbyplay/?GameID=0021400791&StartPeriod=0&EndPeriod=14')\n",
    "#http://stats.nba.com/stats/playbyplay/?GameID=0021400791&StartPeriod=0&EndPeriod=14\n",
    "\n",
    "#r=requests.get('http://stats.nba.com/stats/playbyplay/?GameID=0021400791')\n",
    "print r.status_code\n",
    "if r.status_code==200:\n",
    "    data=r.json()"
   ]
  },
  {
   "cell_type": "code",
   "execution_count": null,
   "metadata": {},
   "outputs": [],
   "source": [
    "print data['resultSets'][0]['headers']"
   ]
  }
 ],
 "metadata": {
  "kernelspec": {
   "display_name": "Python 2",
   "language": "python",
   "name": "python2"
  },
  "language_info": {
   "codemirror_mode": {
    "name": "ipython",
    "version": 2
   },
   "file_extension": ".py",
   "mimetype": "text/x-python",
   "name": "python",
   "nbconvert_exporter": "python",
   "pygments_lexer": "ipython2",
   "version": "2.7.12"
  }
 },
 "nbformat": 4,
 "nbformat_minor": 1
}
