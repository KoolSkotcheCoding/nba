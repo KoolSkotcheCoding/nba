{
 "cells": [
  {
   "cell_type": "code",
   "execution_count": null,
   "metadata": {
    "collapsed": false
   },
   "outputs": [],
   "source": [
    "# import os\n",
    "# import py7zlib\n",
    "# import sys\n",
    "# import fnmatch\n",
    "# sys.path.append('/home/keith/nba/scripts')\n",
    "# import Seven7File\n",
    "\n",
    "# # Set the directory you want to start from\n",
    "# rootDir = '/home/keith/nba/neilmj_BasketballData/BasketballData/2016.NBA.Raw.SportVU.Game.Logs'\n",
    "# pattern = '*.7z'\n",
    "\n",
    "# i = 0\n",
    "# for root, subdirList, files in os.walk(rootDir):\n",
    "#     print('Found directory: %s' % root)\n",
    "#     for filename in fnmatch.filter(files, pattern):\n",
    "#         #i+=1\n",
    "#         if i>=5:\n",
    "#             break\n",
    "#         else:\n",
    "#             zippy=Seven7File.SevenZFile(os.path.join(root,filename))\n",
    "#             zippy.extractall('/nbaData/sportsVUjson')\n",
    "#             #print('\\t%s' % fname)"
   ]
  },
  {
   "cell_type": "code",
   "execution_count": 8,
   "metadata": {
    "collapsed": false
   },
   "outputs": [
    {
     "name": "stdout",
     "output_type": "stream",
     "text": [
      "Found directory: /home/keith/nba/neilmj_BasketballData/BasketballData/2016.NBA.Raw.SportVU.Game.Logs\n",
      "Found directory: /nbaData/sportsVUjson\n",
      "632\n"
     ]
    }
   ],
   "source": [
    "import os\n",
    "import py7zlib\n",
    "import sys\n",
    "import fnmatch\n",
    "sys.path.append('/home/keith/nba/scripts')\n",
    "import Seven7File\n",
    "\n",
    "jsonDir = '/nbaData/sportsVUjson'\n",
    "jsonpattern = '*.json'\n",
    "\n",
    "\n",
    "seven7Dir = '/home/keith/nba/neilmj_BasketballData/BasketballData/2016.NBA.Raw.SportVU.Game.Logs'\n",
    "seven7pattern = '*.7z'\n",
    "\n",
    "i = 0\n",
    "sevenFile=[]\n",
    "for root, subdirList, files in os.walk(seven7Dir):\n",
    "    print('Found directory: %s' % root)\n",
    "    for filename in fnmatch.filter(files, seven7pattern):\n",
    "        sevenFile.append(os.path.splitext(filename)[0])\n",
    "#print sevenFile[0:10]\n",
    "        \n",
    "i = 0\n",
    "jsonFile=[]\n",
    "for root, subdirList, files in os.walk(jsonDir):\n",
    "    print('Found directory: %s' % root)\n",
    "    for filename in fnmatch.filter(files, jsonpattern):\n",
    "        jsonFile.append(os.path.splitext(filename)[0])\n",
    "        \n",
    "print len(jsonFile)"
   ]
  },
  {
   "cell_type": "code",
   "execution_count": null,
   "metadata": {
    "collapsed": true
   },
   "outputs": [],
   "source": []
  }
 ],
 "metadata": {
  "kernelspec": {
   "display_name": "Python 2",
   "language": "python",
   "name": "python2"
  },
  "language_info": {
   "codemirror_mode": {
    "name": "ipython",
    "version": 2
   },
   "file_extension": ".py",
   "mimetype": "text/x-python",
   "name": "python",
   "nbconvert_exporter": "python",
   "pygments_lexer": "ipython2",
   "version": "2.7.6"
  }
 },
 "nbformat": 4,
 "nbformat_minor": 0
}
