{
 "cells": [
  {
   "cell_type": "markdown",
   "metadata": {},
   "source": [
    "# Overview of NBA-Movements data"
   ]
  },
  {
   "cell_type": "markdown",
   "metadata": {},
   "source": [
    "In this notebook, I examine an example/typical game:\n",
    "* The amount of data in a typical game\n",
    "* Data quality and continuity details\n",
    "\n",
    "Understanding these aspects of the nba-movement dataset will allow more explicit assumptions/shortcomings during analysis. \n"
   ]
  },
  {
   "cell_type": "markdown",
   "metadata": {},
   "source": [
    "## Data Description"
   ]
  },
  {
   "cell_type": "markdown",
   "metadata": {},
   "source": [
    "An NBA-Movements JSON file describes the game, its players, and their movements. <br />\n",
    "The movement data is contained within 'events' and 'moments'.<br />\n",
    "Each event contains ~100 moments. <br />\n",
    "Each moment is an instance (temporal) in the game (ie. 10 players and 1 ball on the floor).<br />\n",
    "Each game contains on the order of 100 events.<br />\n",
    "\n",
    "$O(10^4)$ moments in a typical game means<br />\n",
    "$O(10)$ moments per seconds.<br />\n",
    "$O(10^6)$ data points per game (2-D position for 10 players and 3-D position for ball).<br />"
   ]
  },
  {
   "cell_type": "code",
   "execution_count": 1,
   "metadata": {
    "collapsed": true
   },
   "outputs": [],
   "source": [
    "#Import game\n",
    "import json\n",
    "import sys\n",
    "sys.path.append('/home/keith/nba/production')\n",
    "from nba import nbaGame\n",
    "\n",
    "with open('/nbaData/0021500491.json') as data_file:\n",
    "    data=json.load(data_file)"
   ]
  },
  {
   "cell_type": "code",
   "execution_count": 2,
   "metadata": {},
   "outputs": [
    {
     "name": "stdout",
     "output_type": "stream",
     "text": [
      "4577023 moments in example game.\n"
     ]
    }
   ],
   "source": [
    "mom_N=[len(event[\"moments\"]) for event in data[\"events\"]]\n",
    "\n",
    "print sum([len(event[\"moments\"]) for event in data[\"events\"]])*(10*2+3), 'moments in example game.'"
   ]
  },
  {
   "cell_type": "markdown",
   "metadata": {},
   "source": [
    "## Data Quality"
   ]
  },
  {
   "cell_type": "markdown",
   "metadata": {},
   "source": [
    "This section contains quality issues I have found within the nba-movements dataset. <br/>\n",
    "(It is possible there is something physically meaningful behind these percieved quality issues; <br/>\n",
    "I am welcome to any explanations of the issues.)<br/>\n"
   ]
  },
  {
   "cell_type": "markdown",
   "metadata": {},
   "source": [
    "<h3>Game and Shot Clock Discontinuities<h3/>"
   ]
  },
  {
   "cell_type": "markdown",
   "metadata": {
    "collapsed": true
   },
   "source": [
    "The bellow routine confirms that there are no game clock discontinuities within a single moment. "
   ]
  },
  {
   "cell_type": "code",
   "execution_count": 2,
   "metadata": {
    "collapsed": true
   },
   "outputs": [],
   "source": [
    "#check for game clock discontinuities (game clock is strictly decreasing for the moments within an event)\n",
    "#Note, the below routine may take a while to complete. \n",
    "# tespPoss=[]\n",
    "# continuous={}\n",
    "# for i in range(0,500):\n",
    "#     print 'processing event:', i\n",
    "#     found,tespPoss=testGame.getEvent(i)\n",
    "#     if found:\n",
    "#         times=nbaGame.timeElapsed(tespPoss)\n",
    "#         diff=times[:][['gameClock']]-times[:][['gameClock']].shift(-1)\n",
    "#         if not (diff<0).any()[0]:\n",
    "#             continuous[i]='continuous'\n",
    "#     continue\n",
    "\n",
    "# for thing in continuous.items():\n",
    "#     if thing[1] is False:\n",
    "#         print 'Event ',thing[0],' is discontinuous'\n",
    "# print continuous"
   ]
  },
  {
   "cell_type": "code",
   "execution_count": null,
   "metadata": {
    "collapsed": true
   },
   "outputs": [],
   "source": []
  }
 ],
 "metadata": {
  "kernelspec": {
   "display_name": "Python 2",
   "language": "python",
   "name": "python2"
  },
  "language_info": {
   "codemirror_mode": {
    "name": "ipython",
    "version": 2
   },
   "file_extension": ".py",
   "mimetype": "text/x-python",
   "name": "python",
   "nbconvert_exporter": "python",
   "pygments_lexer": "ipython2",
   "version": "2.7.12"
  }
 },
 "nbformat": 4,
 "nbformat_minor": 1
}
