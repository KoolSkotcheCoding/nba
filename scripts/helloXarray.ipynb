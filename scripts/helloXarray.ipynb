{
 "cells": [
  {
   "cell_type": "code",
   "execution_count": 1,
   "metadata": {},
   "outputs": [],
   "source": [
    "import xarray as xr\n",
    "import numpy as np"
   ]
  },
  {
   "cell_type": "code",
   "execution_count": 70,
   "metadata": {},
   "outputs": [
    {
     "name": "stdout",
     "output_type": "stream",
     "text": [
      "[[[0.91944277 0.28622292 0.70819325]\n",
      "  [0.44631785 0.08462234 0.18218319]\n",
      "  [0.68226187 0.37874034 0.75978435]\n",
      "  [0.36171985 0.02826219 0.13096996]\n",
      "  [0.00880531 0.39459592 0.16417269]\n",
      "  [0.43484713 0.74787534 0.50851518]\n",
      "  [0.12062203 0.98961357 0.18686917]\n",
      "  [0.3767821  0.80303219 0.55100834]\n",
      "  [0.59663779 0.34376496 0.93793914]\n",
      "  [0.54228491 0.77733238 0.83114257]]]\n"
     ]
    }
   ],
   "source": [
    "dimensions=['x','y','z']\n",
    "locs=['player1','player2','player3']\n",
    "time=range(0,10,1)\n",
    "data=np.random.rand(10,3)\n",
    "\n",
    "xyzData=np.random.rand(1,10,3)\n",
    "print xyzData\n"
   ]
  },
  {
   "cell_type": "code",
   "execution_count": 76,
   "metadata": {},
   "outputs": [
    {
     "data": {
      "text/plain": [
       "<xarray.Dataset>\n",
       "Dimensions:   (position: 3, time: 10, x: 1, y: 10, z: 3)\n",
       "Coordinates:\n",
       "  * position  (position) |S1 'x' 'y' 'z'\n",
       "  * time      (time) int64 0 1 2 3 4 5 6 7 8 9\n",
       "Dimensions without coordinates: x, y, z\n",
       "Data variables:\n",
       "    player1   (x, y, z) float64 0.9194 0.2862 0.7082 0.4463 0.08462 0.1822 ..."
      ]
     },
     "execution_count": 76,
     "metadata": {},
     "output_type": "execute_result"
    }
   ],
   "source": [
    "ds=xr.Dataset({'player1':(['x','y','z'],xyzData)},\n",
    "             coords={'position':['x','y','z'],\n",
    "                     'time':time})\n",
    "ds"
   ]
  },
  {
   "cell_type": "code",
   "execution_count": null,
   "metadata": {},
   "outputs": [],
   "source": []
  }
 ],
 "metadata": {
  "kernelspec": {
   "display_name": "Python 2",
   "language": "python",
   "name": "python2"
  },
  "language_info": {
   "codemirror_mode": {
    "name": "ipython",
    "version": 2
   },
   "file_extension": ".py",
   "mimetype": "text/x-python",
   "name": "python",
   "nbconvert_exporter": "python",
   "pygments_lexer": "ipython2",
   "version": "2.7.15rc1"
  }
 },
 "nbformat": 4,
 "nbformat_minor": 2
}
