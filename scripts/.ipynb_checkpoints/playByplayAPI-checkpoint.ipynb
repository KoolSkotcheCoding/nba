{
 "cells": [
  {
   "cell_type": "code",
   "execution_count": null,
   "metadata": {
    "collapsed": true
   },
   "outputs": [],
   "source": [
    "#Information on nba stats API; specifically the playByplay endpoint.\n",
    "#Parameters: Parameters:GameID, StartPeriod, EndPeriod\n",
    "# GameID - The field GameID must match the regular expression '^\\d{10}$'. =>contains only 10 digits\n",
    "#        - Note, still returns 200 status/content for nonexistent gameID (ie 9999999999), but rowset is empty list. \n",
    "# StartPeriod - The field StartPeriod must be between 0 and 14.\n",
    "# EndPerios - The field EndPeriod must be between 0 and 14."
   ]
  },
  {
   "cell_type": "code",
   "execution_count": 6,
   "metadata": {
    "collapsed": false
   },
   "outputs": [
    {
     "name": "stdout",
     "output_type": "stream",
     "text": [
      "200\n"
     ]
    }
   ],
   "source": [
    "##notebook to examine nba play by play data\n",
    "import requests,json\n",
    "\n",
    "r = requests.get('http://stats.nba.com/stats/playbyplay/?GameID=0021400791&StartPeriod=0&EndPeriod=14')\n",
    "#r=requests.get('http://stats.nba.com/stats/playbyplay/?GameID=0021400791')\n",
    "print r.status_code\n",
    "if r.status_code==200:\n",
    "    data=r.json()"
   ]
  },
  {
   "cell_type": "code",
   "execution_count": null,
   "metadata": {
    "collapsed": false
   },
   "outputs": [],
   "source": [
    "#content of response is json.\n",
    "#Level 1 is a dictionary. With keys [u'resource', u'resultSets', u'parameters']\n",
    "#   ['resource']='playbyplay'\n",
    "#   ['resultSets']=list containing 2 dictionaries. \n",
    "#           2nd dictionary indicates video availability (ostensible useless: potentially related to movements.)\n",
    "# ['resultsSets'][1].keys()='headers','rowSet','name'\n",
    "#   'headers' contains headers for data in 'rowSet'\n",
    "#   'rowSet' list of events (list). (on the order of hundreds of events)\n",
    "#        Each list contains:\n",
    "#   'name' contains the string 'playByplay'\n",
    "\n",
    "\n"
   ]
  },
  {
   "cell_type": "code",
   "execution_count": 14,
   "metadata": {
    "collapsed": false
   },
   "outputs": [
    {
     "name": "stdout",
     "output_type": "stream",
     "text": [
      "422\n"
     ]
    }
   ],
   "source": [
    "#print r.text\n",
    "\n",
    "#playDict=list(r.text)\n",
    "\n",
    "#print r.json()\n",
    "\n",
    "data=r.json()\n",
    "print len(data['resultSets'][0]['rowSet'])"
   ]
  },
  {
   "cell_type": "code",
   "execution_count": null,
   "metadata": {
    "collapsed": false
   },
   "outputs": [],
   "source": [
    "print data.keys()\n",
    "\n",
    "for key in data.keys():\n",
    "    print type(data[key])\n",
    "    \n",
    "print '**********'\n",
    "#print data['resultSets'][0].keys()\n",
    "#print '**********'\n",
    "#print type(data['resultSets'][0]['headers'])\n",
    "for i in range(3):\n",
    "    print '**********'\n",
    "    print data['resultSets'][0]['rowSet'][i]\n",
    "#print '**********'\n",
    "#print type(data['resultSets'][0]['name'])\n",
    "\n",
    "\n"
   ]
  },
  {
   "cell_type": "code",
   "execution_count": null,
   "metadata": {
    "collapsed": true
   },
   "outputs": [],
   "source": [
    "print "
   ]
  }
 ],
 "metadata": {
  "kernelspec": {
   "display_name": "Python 2",
   "language": "python",
   "name": "python2"
  },
  "language_info": {
   "codemirror_mode": {
    "name": "ipython",
    "version": 2
   },
   "file_extension": ".py",
   "mimetype": "text/x-python",
   "name": "python",
   "nbconvert_exporter": "python",
   "pygments_lexer": "ipython2",
   "version": "2.7.6"
  }
 },
 "nbformat": 4,
 "nbformat_minor": 0
}
