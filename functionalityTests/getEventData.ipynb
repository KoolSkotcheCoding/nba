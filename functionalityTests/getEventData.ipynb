{
 "cells": [
  {
   "cell_type": "code",
   "execution_count": null,
   "metadata": {
    "collapsed": true
   },
   "outputs": [],
   "source": [
    "##Test for new get event data functionality.\n",
    "\n",
    "#Current: getEvent(eventId)=full event dataframe.\n",
    "\n",
    "#New: getEvent(eventId, desired data)=event dataframe only containing desired data. \n",
    "#desired data keywords:\n",
    "    #ball=True/False - whether to return ball location data\n",
    "    #time=True/False - whether to return shot clock and game clock\n",
    "    #playerlist = [playerID1, playerID2, etc.] - a list of player ID to return in dataframe.\n",
    "    #note, if any desired player IDs in playerlist are not found in the event,\n",
    "    #that player ID will not be returned in the dataframe.\n",
    "    \n",
    "    "
   ]
  },
  {
   "cell_type": "code",
   "execution_count": 1,
   "metadata": {
    "collapsed": false
   },
   "outputs": [],
   "source": [
    "import numpy as np\n",
    "from scipy import integrate\n",
    "import sys\n",
    "from matplotlib import pyplot as plt\n",
    "from mpl_toolkits.mplot3d import Axes3D\n",
    "from matplotlib.colors import cnames\n",
    "from matplotlib import animation\n",
    "sys.path.append('/home/keith/nba/production')\n",
    "from nba import nbaGame,nbaPlot\n",
    "import pandas as pd\n",
    "import json\n",
    "with open('/nbaData/0021500491.json') as data_file:\n",
    "    bata=json.load(data_file)\n",
    "\n",
    "testGame=nbaGame.NBA_game(bata)\n",
    "#recievedPoss,tempPoss=testGame.getEvent(3)\n",
    "\n",
    "\n"
   ]
  },
  {
   "cell_type": "code",
   "execution_count": null,
   "metadata": {
    "collapsed": false
   },
   "outputs": [],
   "source": [
    "reload(nbaGame)\n",
    "testGame=nbaGame.NBA_game(bata)"
   ]
  },
  {
   "cell_type": "code",
   "execution_count": 2,
   "metadata": {
    "collapsed": false
   },
   "outputs": [
    {
     "name": "stdout",
     "output_type": "stream",
     "text": [
      "   gameClock  shotClock  (-1, x)  (-1, y)  (-1, z)\n",
      "0     706.62       8.92    75.33     5.98     5.49\n",
      "1     706.58       8.90    76.07     5.47     5.15\n",
      "2     706.54       8.88    76.82     5.19     4.95\n",
      "3     706.49       8.86    77.58     5.47     4.94\n",
      "4     706.45       8.85    78.25     5.89     4.90\n",
      "   gameClock  shotClock  (-1, x)  (-1, y)  (-1, z)  (1717, x)  (1717, y)  \\\n",
      "0     706.62       8.92    75.33     5.98     5.49      73.23      27.91   \n",
      "1     706.58       8.90    76.07     5.47     5.15      73.24      27.92   \n",
      "2     706.54       8.88    76.82     5.19     4.95      73.29      27.91   \n",
      "3     706.49       8.86    77.58     5.47     4.94      73.34      27.89   \n",
      "4     706.45       8.85    78.25     5.89     4.90      73.36      27.89   \n",
      "\n",
      "   (2547, x)  (2547, y)  (2585, x)     ...       (201609, x)  (201609, y)  \\\n",
      "0      63.71      34.46      84.10     ...             70.30         7.46   \n",
      "1      63.76      34.51      84.04     ...             70.21         7.43   \n",
      "2      63.82      34.57      84.01     ...             70.11         7.41   \n",
      "3      63.88      34.63      83.96     ...             70.04         7.43   \n",
      "4      63.95      34.70      83.93     ...             69.97         7.48   \n",
      "\n",
      "   (202083, x)  (202083, y)  (202355, x)  (202355, y)  (202718, x)  \\\n",
      "0        82.54        13.31        83.90        34.20        74.64   \n",
      "1        82.62        13.24        83.92        34.19        74.75   \n",
      "2        82.69        13.18        83.95        34.18        74.87   \n",
      "3        82.77        13.12        83.97        34.17        74.97   \n",
      "4        82.85        13.05        84.09        34.19        75.15   \n",
      "\n",
      "   (202718, y)  (204020, x)  (204020, y)  \n",
      "0        11.59        87.11        47.84  \n",
      "1        11.51        87.11        47.84  \n",
      "2        11.44        87.11        47.84  \n",
      "3        11.39        87.12        47.84  \n",
      "4        11.42        87.12        47.84  \n",
      "\n",
      "[5 rows x 25 columns]\n",
      "0        2547\n",
      "1        2548\n",
      "2        2405\n",
      "3      201609\n",
      "4      204020\n",
      "5        2736\n",
      "6        2365\n",
      "7      101123\n",
      "8        2757\n",
      "9     1626159\n",
      "10     202355\n",
      "11       2617\n",
      "12     101109\n",
      "13     101111\n",
      "14     200826\n",
      "15     203939\n",
      "16     101114\n",
      "17     201580\n",
      "18     203098\n",
      "19     202379\n",
      "20     202083\n",
      "21     202718\n",
      "22       2585\n",
      "23       2734\n",
      "24       1717\n",
      "Name: playerid, dtype: int64\n"
     ]
    }
   ],
   "source": [
    "receivedballPoss,ballPoss=testGame.getEventData(3)\n",
    "if receivedballPoss:\n",
    "    print ballPoss[:5]\n",
    "    \n",
    "#receivedTime,TimePoss=testGame.getEventData(3,time=)\n",
    "#if recievedTime:\n",
    "#   print TimePoss[:5]\n",
    "    \n",
    "receivedplayer,playerPoss=testGame.getEventData(3,players=testGame.players['playerid'])\n",
    "if receivedplayer:\n",
    "    print playerPoss[:5]\n",
    "    \n",
    "if 2547 in testGame.players['playerid']:\n",
    "    print 'ye'\n",
    "else:\n",
    "    print testGame.players['playerid']"
   ]
  },
  {
   "cell_type": "code",
   "execution_count": null,
   "metadata": {
    "collapsed": false
   },
   "outputs": [],
   "source": [
    "\n",
    "homePlayers=pd.DataFrame(bata[\"events\"][0][\"home\"][\"players\"])\n",
    "awayPlayers=pd.DataFrame(bata[\"events\"][0][\"visitor\"][\"players\"])\n",
    "\n",
    "players=homePlayers.append(awayPlayers,ignore_index=True)\n",
    "\n",
    "#print players['playerid'].empty\n",
    "\n",
    "\n",
    "print players[players['playerid']==2547]\n",
    "\n",
    "dataFrameType=type(players)\n",
    "\n",
    "if players==False:\n",
    "    print 'yep'\n",
    "else:\n",
    "    print 'nope'"
   ]
  },
  {
   "cell_type": "code",
   "execution_count": null,
   "metadata": {
    "collapsed": false
   },
   "outputs": [],
   "source": [
    "ball,time,playerList=False,False,[1,2]\n",
    "if ball is False and time is False and playerList is False:\n",
    "    print 'expected'\n",
    "else:\n",
    "    for thing in playerList:\n",
    "        print thing\n",
    "    "
   ]
  },
  {
   "cell_type": "code",
   "execution_count": null,
   "metadata": {
    "collapsed": false
   },
   "outputs": [],
   "source": [
    "#keyword argument in class constructor test\n",
    "\n",
    "\n",
    "class keeArg:\n",
    "    def __init__(self,eventID,playerList=False):\n",
    "        self.eventID=eventID\n",
    "        self.playerList=playerList\n",
    "            \n",
    "acci1=keeArg(23)            \n",
    "            \n",
    "acci2=keeArg(45,playerList=[2,3])\n",
    "        \n",
    "    \n",
    "    \n",
    "print acci1.eventID,acci1.playerList\n",
    "\n",
    "\n",
    "print acci2.eventID,acci2.playerList"
   ]
  }
 ],
 "metadata": {
  "kernelspec": {
   "display_name": "Python 2",
   "language": "python",
   "name": "python2"
  },
  "language_info": {
   "codemirror_mode": {
    "name": "ipython",
    "version": 2
   },
   "file_extension": ".py",
   "mimetype": "text/x-python",
   "name": "python",
   "nbconvert_exporter": "python",
   "pygments_lexer": "ipython2",
   "version": "2.7.6"
  }
 },
 "nbformat": 4,
 "nbformat_minor": 0
}
