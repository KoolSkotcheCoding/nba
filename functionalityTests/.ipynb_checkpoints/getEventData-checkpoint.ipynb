{
 "cells": [
  {
   "cell_type": "code",
   "execution_count": 1,
   "metadata": {
    "collapsed": true
   },
   "outputs": [],
   "source": [
    "##Test for new get event data functionality.\n",
    "\n",
    "#Current: getEvent(eventId)=full event dataframe.\n",
    "\n",
    "#New: getEvent(eventId, desired data)=event dataframe only containing desired data. \n",
    "#desired data keywords:\n",
    "    #ball=True/False - whether to return ball location data\n",
    "    #time=True/False - whether to return shot clock and game clock\n",
    "    #playerlist = [playerID1, playerID2, etc.] - a list of player ID to return in dataframe.\n",
    "    #note, if any desired player IDs in playerlist are not found in the event,\n",
    "    #that player ID will not be returned in the dataframe.\n",
    "    \n",
    "    "
   ]
  },
  {
   "cell_type": "code",
   "execution_count": null,
   "metadata": {
    "collapsed": true
   },
   "outputs": [],
   "source": []
  }
 ],
 "metadata": {
  "kernelspec": {
   "display_name": "Python 2",
   "language": "python",
   "name": "python2"
  },
  "language_info": {
   "codemirror_mode": {
    "name": "ipython",
    "version": 2
   },
   "file_extension": ".py",
   "mimetype": "text/x-python",
   "name": "python",
   "nbconvert_exporter": "python",
   "pygments_lexer": "ipython2",
   "version": "2.7.6"
  }
 },
 "nbformat": 4,
 "nbformat_minor": 0
}
